{
 "cells": [
  {
   "cell_type": "markdown",
   "id": "0e35f518-f14a-4112-b047-d75eba839178",
   "metadata": {},
   "source": [
    "# <font face=\"garamond\" size=\"18\" color=\"#122DAC\">***What firm-specific characteristics explain the variation in corporate leverage (debt ratio) among US firms?***</font>\n",
    "## <font face=\"garamond\" size=\"6\" color=\"#122DAC\">*Econ 430*</font> \n",
    "### <font face=\"garamond\" size=\"6\" color=\"#122DAC\">*Jacob Williams, Josh Kentworthy, Ignacio Ramirez, and Tadeh Essakhan*</font>\n",
    "\n",
    "# University of California Los Angeles\n",
    "## October, 31 2025\n"
   ]
  },
  {
   "cell_type": "markdown",
   "id": "216a6b0a-8bed-4676-b86e-57f3e65fa645",
   "metadata": {},
   "source": [
    "## 1. Economic Theory and Hypothesis (15 points)\n",
    "\n",
    "\n",
    "### (a) State a clear economic research question that your analysis will address\n",
    "\n",
    "\n",
    "### (b) Provide 2-3 paragraphs reviewing relevant economic theory and citing at least 2 academic sources\n",
    "\n",
    "\n",
    "### (c) Formulate a specific, testable economic hypothesis about the relationship between your key variables\n",
    "\n",
    "\n",
    "### (d) Discuss the expected signs and magnitudes of coefficients based on economic theory"
   ]
  },
  {
   "cell_type": "markdown",
   "id": "eb203d1d-4d95-43cf-856c-3139d35ddadc",
   "metadata": {},
   "source": [
    "## 2. Data Description and Exploratory Analysis (25 points)\n",
    "\n",
    "\n",
    "### (a) Provide detailed description of your dataset: source, time period, sample selection, variable definitions\n",
    "\n",
    "\n",
    "### (b) Create comprehensive descriptive statistics table (mean, median, std dev, min, max, skewness, kurtosis)\n",
    "\n",
    "\n",
    "### (c) Generate appropriate visualizations: histograms, box plots, correlation matrix heatmap, scatter plots of key relationships\n",
    "\n",
    "\n",
    "### (d) Assess normality using Q-Q plots and density plots for continuous variables\n",
    "\n",
    "\n",
    "### (e) Identify and discuss potential non-linearities. What transformations might be needed?\n",
    "\n",
    "\n",
    "### (f) Comment on outliers using appropriate detection methods (IQR, standardized residuals)\n",
    "\n",
    "\n",
    "### (g) Handle missing values: document patterns, justify imputation method, sensitivity analysis\n",
    "\n",
    "\n",
    "### (h) Discuss findings from Pandas Profiling analysis"
   ]
  },
  {
   "cell_type": "markdown",
   "id": "1961de93-1d12-487f-83d9-5e1c5778b00b",
   "metadata": {},
   "source": [
    "## 3. Variable Selection and Model Development (25 points)\n",
    "\n",
    "\n",
    "### (a) Apply Boruta Algorithm to identify important predictors (document parameters used)\n",
    "\n",
    "\n",
    "### (b) Apply Mallows Cp criterion for variable selection\n",
    "\n",
    "\n",
    "### (c) Check for multicollinearity using Variance Inflation Factors\n",
    "\n",
    "\n",
    "### (d) Based on economic theory and statistical evidence, develop and justify three competing models:\n",
    "\n",
    "\n",
    "#### • Model 1: Simple regression with your theoretically most important predictor\n",
    "\n",
    "\n",
    "#### • Model 2: Multiple regression with 2-3 key predictors\n",
    "\n",
    "\n",
    "#### • Model 3: Multiple regression including all statistically significant predictors\n",
    "\n",
    "\n",
    "### (e) Compare models using AIC, BIC, adjusted R2, and cross-validation performance\n",
    "\n",
    "\n",
    "### (f) Select final model and provide detailed economic and statistical justification"
   ]
  },
  {
   "cell_type": "markdown",
   "id": "4e4b4bd1-e424-4118-bd90-75617de460b2",
   "metadata": {},
   "source": [
    "## 4. Final Model Diagnostics and Robustness (20 points)\n",
    "\n",
    "\n",
    "### Required diagnostic tests and visualizations:\n",
    "\n",
    "\n",
    "#### • Linearity: Residuals vs. fitted values plots, RESET test for specification\n",
    "\n",
    "\n",
    "#### • Homoskedasticity: Breusch-Pagan test, White test, scale-location plots\n",
    "\n",
    "\n",
    "#### • Normality of residuals: Q-Q plots, Jarque-Bera test, histograms of residuals\n",
    "\n",
    "\n",
    "#### • Outliers and influence: Cook’s distance plot, leverage vs. residuals, DFBETAS\n",
    "\n",
    "\n",
    "#### • Robustness analysis: Bootstrap coefficient estimates (1000 replications), compare with OLS estimates\n",
    "\n",
    "\n",
    "#### • Model validation: 5-fold or 10-fold cross-validation, out-of-sample prediction accuracy\n",
    "\n",
    "\n",
    "#### Document any violations of OLS assumptions and discuss implications for your results."
   ]
  },
  {
   "cell_type": "markdown",
   "id": "c7fb6700-ba8a-4016-9f96-072fe82484de",
   "metadata": {},
   "source": [
    "## 5. Results and Economic Interpretation (25 points)\n",
    "\n",
    "\n",
    "### (a) Present final model results in professional regression table\n",
    "\n",
    "\n",
    "### (b) Interpret ALL coefficients in economic terms (magnitude, direction, units)\n",
    "\n",
    "\n",
    "### (c) Distinguish between statistical significance and economic significance\n",
    "\n",
    "\n",
    "### (d) Calculate and interpret confidence intervals for key parameters\n",
    "\n",
    "\n",
    "### (e) Discuss R2 and model fit in economic context"
   ]
  },
  {
   "cell_type": "markdown",
   "id": "51bc97e5-83a9-4556-bdf5-b38c5f65ab55",
   "metadata": {},
   "source": [
    "## 6. Limitations, Policy Implications, and Extensions (10 points)\n",
    "\n",
    "\n",
    "### (a) Discuss key limitations of your analysis (data, methodology, scope)\n",
    "\n",
    "\n",
    "### (b) Identify potential sources of bias and how they might affect conclusions\n",
    "\n",
    "\n",
    "### (c) Describe policy implications of your findings (if applicable)\n",
    "\n",
    "\n",
    "### (d) Suggest concrete extensions for future research\n",
    "\n",
    "\n",
    "### (e) Comment on external validity: to what populations/contexts do results generalize?"
   ]
  },
  {
   "cell_type": "markdown",
   "id": "e352f0a0-af24-448f-a4a4-a93d27bdf283",
   "metadata": {},
   "source": [
    "## 7. Code Quality and Reproducibility (10 points)\n",
    "\n",
    "\n",
    "### • Well-commented Python code with clear section headers\n",
    "\n",
    "\n",
    "### • Reproducible analysis (set random seeds where applicable)\n",
    "\n",
    "\n",
    "### • Efficient, readable code following best practices\n",
    "\n",
    "\n",
    "### • All figures and tables generated programmatically"
   ]
  },
  {
   "cell_type": "markdown",
   "id": "1d899ac9-ebe9-4e8e-af94-84453059a537",
   "metadata": {},
   "source": []
  },
  {
   "cell_type": "markdown",
   "id": "8543832b-cfe9-4d52-85a7-17ee6006418f",
   "metadata": {},
   "source": []
  }
 ],
 "metadata": {
  "kernelspec": {
   "display_name": "Python [conda env:base] *",
   "language": "python",
   "name": "conda-base-py"
  },
  "language_info": {
   "codemirror_mode": {
    "name": "ipython",
    "version": 3
   },
   "file_extension": ".py",
   "mimetype": "text/x-python",
   "name": "python",
   "nbconvert_exporter": "python",
   "pygments_lexer": "ipython3",
   "version": "3.13.5"
  }
 },
 "nbformat": 4,
 "nbformat_minor": 5
}
